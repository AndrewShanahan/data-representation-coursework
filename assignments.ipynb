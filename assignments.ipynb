{
 "cells": [
  {
   "cell_type": "code",
   "execution_count": 4,
   "id": "9190c9e1",
   "metadata": {},
   "outputs": [
    {
     "ename": "SyntaxError",
     "evalue": "invalid syntax (Temp/ipykernel_16588/1237979013.py, line 1)",
     "output_type": "error",
     "traceback": [
      "\u001b[1;36m  File \u001b[1;32m\"C:\\Users\\andre\\AppData\\Local\\Temp/ipykernel_16588/1237979013.py\"\u001b[1;36m, line \u001b[1;32m1\u001b[0m\n\u001b[1;33m    pip install PyGithub\u001b[0m\n\u001b[1;37m        ^\u001b[0m\n\u001b[1;31mSyntaxError\u001b[0m\u001b[1;31m:\u001b[0m invalid syntax\n"
     ]
    }
   ],
   "source": [
    "pip install PyGithub\n",
    "#from github import Github\n",
    "from github import Github\n",
    "from config import tempgit as tmpg\n",
    "import requests\n",
    "\n",
    "gh = Github(tmpg[\"githubtmpg\"])\n",
    "search_text = \"Never\"\n",
    "replace_text= \"Andrew\"\n",
    "\n",
    "# repo I want to clone:\n",
    "repo = gh.get_repo(\"https://github.com/AndrewShanahan/data-representation-coursework/tree/main\")\n",
    "\n",
    "# using repo varriable, getting test text file\n",
    "fileInfo = repo.get_contents(\"test.txt\")\n",
    "urlOfFile = fileInfo.download_url\n",
    "\n",
    "response = requests.get(urlOfFile)\n",
    "contentOfFile = response.text\n",
    "\n",
    "# replace function \n",
    "new_contents = contentOfFile.replace(search_text,replace_text)\n",
    "\n",
    "# Update file and push to repository\n",
    "gitHubResponse=repo.update_file(fileInfo.path,\"New\",\n",
    "new_contents,fileInfo.sha)\n"
   ]
  }
 ],
 "metadata": {
  "kernelspec": {
   "display_name": "Python 3 (ipykernel)",
   "language": "python",
   "name": "python3"
  },
  "language_info": {
   "codemirror_mode": {
    "name": "ipython",
    "version": 3
   },
   "file_extension": ".py",
   "mimetype": "text/x-python",
   "name": "python",
   "nbconvert_exporter": "python",
   "pygments_lexer": "ipython3",
   "version": "3.9.7"
  }
 },
 "nbformat": 4,
 "nbformat_minor": 5
}
